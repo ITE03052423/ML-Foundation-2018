{
 "cells": [
  {
   "cell_type": "code",
   "execution_count": 6,
   "metadata": {},
   "outputs": [
    {
     "name": "stdout",
     "output_type": "stream",
     "text": [
      "Average Ein: 0.17305000000000006\n",
      "Average Eout: 0.26074740744261604\n"
     ]
    },
    {
     "data": {
      "image/png": "[encoded data removed]",
      "text/plain": [
       "<Figure size 432x288 with 1 Axes>"
      ]
     },
     "metadata": {},
     "output_type": "display_data"
    }
   ],
   "source": [
    "import numpy as np\n",
    "import random as rd\n",
    "import matplotlib.pyplot as plt\n",
    "%matplotlib inline\n",
    "\n",
    "def sign(x):\n",
    "    if x >0:\n",
    "        return 1\n",
    "    else:\n",
    "        return -1\n",
    "\n",
    "X_n=20\n",
    "Ein_acc=0\n",
    "Eout_acc=0\n",
    "Ein_his=[]\n",
    "Eout_his=[]\n",
    "for t in range(1000):\n",
    "    X = (1-(-1))*np.random.rand(X_n)+(-1)\n",
    "    idx=np.argsort(X[:])\n",
    "    sample = np.random.rand(X_n)\n",
    "    Y=[]\n",
    "    noise_n=0\n",
    "    for i in range(X_n):\n",
    "        if sample[i]<0.2:\n",
    "            noise_n+=1\n",
    "            Y.append(-sign(X[i]))\n",
    "        else:\n",
    "            Y.append(sign(X[i]))\n",
    "    dich_n=2*X_n\n",
    "    Ein_min=X_n\n",
    "    for i in range(len(idx)):\n",
    "        c=i*2\n",
    "        Ein_1=0\n",
    "        Ein_2=0\n",
    "        x=X[idx[i]]\n",
    "        for j in range(X_n):\n",
    "            if X[j]<x:\n",
    "                x1=-1\n",
    "                x2=1\n",
    "            else:\n",
    "                x1=1\n",
    "                x2=-1\n",
    "            if x1!=Y[j]:\n",
    "                Ein_1+=1\n",
    "            else:\n",
    "                Ein_2+=1\n",
    "        Ein_12=Ein_2\n",
    "        s=-1\n",
    "        if Ein_1<Ein_2:\n",
    "            Ein_12=Ein_1\n",
    "            s=1\n",
    "        if Ein_12<Ein_min:\n",
    "            Ein_min=Ein_12\n",
    "            s_min=s\n",
    "            if i==0:\n",
    "                theta_min=(X[idx[i]]+(-1))/2\n",
    "            else:\n",
    "                if X[idx[i]]==X[idx[i-1]]:\n",
    "                    for kk in range(i-1,-1,-1):\n",
    "                        if X[idx[i]]!=X[idx[kk]]:\n",
    "                            theta_min=(X[idx[i]]+X[idx[kk]])/2\n",
    "                            break\n",
    "                        else:\n",
    "                            theta_min_i=(X[idx[i]]+(-1))/2\n",
    "                else:\n",
    "                    theta_min=(X[idx[i]]+X[idx[i-1]])/2\n",
    "    Eout=0.5+0.3*s_min*(abs(theta_min)-1)\n",
    "    Ein=Ein_min/X_n\n",
    "    \n",
    "    Ein_his.append(Ein)\n",
    "    Eout_his.append(Eout)\n",
    "    Ein_acc+=Ein\n",
    "    Eout_acc+=Eout\n",
    "print('Average Ein:',Ein_acc/1000)\n",
    "print('Average Eout:',Eout_acc/1000)\n",
    "Ein_his=np.array(Ein_his)\n",
    "Eout_his=np.array(Eout_his)\n",
    "# plt.hist(np.absolute(Ein_his-Eout_his),bins=20)\n",
    "plt.hist(Ein_his-Eout_his,bins=40)\n",
    "plt.ylabel('Frequency')\n",
    "plt.xlabel('Ein - Eout')\n",
    "plt.title(r'$\\mathrm{Histogram\\ of\\ (Ein\\ -\\ Eout)}$')\n",
    "plt.grid(True)\n",
    "plt.show()"
   ]
  },
  {
   "cell_type": "code",
   "execution_count": null,
   "metadata": {},
   "outputs": [],
   "source": []
  }
 ],
 "metadata": {
  "kernelspec": {
   "display_name": "Python 3",
   "language": "python",
   "name": "python3"
  },
  "language_info": {
   "codemirror_mode": {
    "name": "ipython",
    "version": 3
   },
   "file_extension": ".py",
   "mimetype": "text/x-python",
   "name": "python",
   "nbconvert_exporter": "python",
   "pygments_lexer": "ipython3",
   "version": "3.6.5"
  }
 },
 "nbformat": 4,
 "nbformat_minor": 2
}
