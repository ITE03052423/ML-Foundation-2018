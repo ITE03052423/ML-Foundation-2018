{
 "cells": [
  {
   "cell_type": "code",
   "execution_count": 77,
   "metadata": {},
   "outputs": [
    {
     "name": "stdout",
     "output_type": "stream",
     "text": [
      "0.16962000000000052\n"
     ]
    }
   ],
   "source": [
    "# import numpy as np\n",
    "# import random as rd\n",
    "# import matplotlib.pyplot as plt\n",
    "\n",
    "# def sign(x):\n",
    "#     if x >0:\n",
    "#         return 1\n",
    "#     else:\n",
    "#         return -1\n",
    "\n",
    "# X_n=20\n",
    "# Ein_acc=0\n",
    "# Eout_acc=0\n",
    "# for t in range(5000):\n",
    "#     X = (1-(-1))*np.random.rand(X_n)+(-1)\n",
    "#     X = sorted(X)\n",
    "#     sample = np.random.rand(X_n)\n",
    "#     Y=[]\n",
    "#     noise_n=0\n",
    "#     for i in range(X_n):\n",
    "#         if sample[i]<0.2:\n",
    "#             noise_n+=1\n",
    "#             Y.append(-sign(X[i]))\n",
    "#         else:\n",
    "#             Y.append(sign(X[i]))\n",
    "#     dich_n=2*X_n\n",
    "#     Ein=np.zeros(dich_n)\n",
    "#     dich=[]\n",
    "#     for i in range(X_n):\n",
    "#         c=i*2\n",
    "#         dich.append([])\n",
    "#         dich.append([])\n",
    "#         Ein_1=0\n",
    "#         Ein_2=0\n",
    "#         for j in range(X_n):\n",
    "#             if j<i:\n",
    "#                 dich[c].append(-1)\n",
    "#                 dich[c+1].append(1)\n",
    "#             else:\n",
    "#                 dich[c].append(1)\n",
    "#                 dich[c+1].append(-1)\n",
    "#             if dich[c][j]!=Y[j]:\n",
    "#                 Ein[c]+=1\n",
    "#             else:\n",
    "#                 Ein[c+1]+=1\n",
    "#     min_i=min(range(len(Ein)),key = lambda i:Ein[i])\n",
    "#     Ein_acc+=Ein[min_i]/X_n\n",
    "# print(Ein_acc/5000)\n",
    "\n",
    "    "
   ]
  },
  {
   "cell_type": "code",
   "execution_count": 79,
   "metadata": {},
   "outputs": [
    {
     "name": "stdout",
     "output_type": "stream",
     "text": [
      "0.1690599999999999\n",
      "0.2582295523478693\n"
     ]
    }
   ],
   "source": [
    "import numpy as np\n",
    "import random as rd\n",
    "import matplotlib.pyplot as plt\n",
    "\n",
    "def sign(x):\n",
    "    if x >0:\n",
    "        return 1\n",
    "    else:\n",
    "        return -1\n",
    "\n",
    "X_n=20\n",
    "Ein_acc=0\n",
    "Eout_acc=0\n",
    "for t in range(5000):\n",
    "    X = (1-(-1))*np.random.rand(X_n)+(-1)\n",
    "    X = sorted(X)\n",
    "    sample = np.random.rand(X_n)\n",
    "    Y=[]\n",
    "    noise_n=0\n",
    "    for i in range(X_n):\n",
    "        if sample[i]<0.2:\n",
    "            noise_n+=1\n",
    "            Y.append(-sign(X[i]))\n",
    "        else:\n",
    "            Y.append(sign(X[i]))\n",
    "    dich_n=2*X_n\n",
    "    Ein_min=X_n\n",
    "    dich=[]\n",
    "    for i in range(X_n):\n",
    "        c=i*2\n",
    "        dich.append([])\n",
    "        dich.append([])\n",
    "        Ein_1=0\n",
    "        Ein_2=0\n",
    "        for j in range(X_n):\n",
    "            if j<i:\n",
    "                dich[c].append(-1)\n",
    "                dich[c+1].append(1)\n",
    "            else:\n",
    "                dich[c].append(1)\n",
    "                dich[c+1].append(-1)\n",
    "            if dich[c][j]!=Y[j]:\n",
    "                Ein_1+=1\n",
    "            else:\n",
    "                Ein_2+=1\n",
    "        Ein_12=Ein_2\n",
    "        s=-1\n",
    "        if Ein_1<Ein_2:\n",
    "            Ein_12=Ein_1\n",
    "            s=1\n",
    "        if Ein_12<Ein_min:\n",
    "            Ein_min=Ein_12\n",
    "            s_min=s\n",
    "            if i==0:\n",
    "                theta_min=(X[i]+(-1))/2\n",
    "            else:\n",
    "                theta_min=(X[i]+X[i-1])/2\n",
    "    min_i=min(range(len(Ein)),key = lambda i:Ein[i])\n",
    "    Ein_acc+=Ein_min/X_n\n",
    "    Eout_acc+=0.5+0.3*s_min*(abs(theta_min)-1)\n",
    "print(Ein_acc/5000)\n",
    "print(Eout_acc/5000)\n",
    "    "
   ]
  },
  {
   "cell_type": "code",
   "execution_count": null,
   "metadata": {},
   "outputs": [],
   "source": []
  }
 ],
 "metadata": {
  "kernelspec": {
   "display_name": "Python 3",
   "language": "python",
   "name": "python3"
  },
  "language_info": {
   "codemirror_mode": {
    "name": "ipython",
    "version": 3
   },
   "file_extension": ".py",
   "mimetype": "text/x-python",
   "name": "python",
   "nbconvert_exporter": "python",
   "pygments_lexer": "ipython3",
   "version": "3.6.5"
  }
 },
 "nbformat": 4,
 "nbformat_minor": 2
}
