{
 "cells": [
  {
   "cell_type": "code",
   "execution_count": 1,
   "metadata": {},
   "outputs": [
    {
     "name": "stdout",
     "output_type": "stream",
     "text": [
      "the average number of updates: 39.988455\n"
     ]
    },
    {
     "data": {
      "image/png": "[encoded data removed]",
      "text/plain": [
       "<Figure size 432x288 with 1 Axes>"
      ]
     },
     "metadata": {},
     "output_type": "display_data"
    }
   ],
   "source": [
    "%matplotlib inline\n",
    "import numpy as np\n",
    "import random as rd\n",
    "import matplotlib.pyplot as plt\n",
    "\n",
    "def sign(xt,wt):\n",
    "    if np.dot(xt,wt)>0:\n",
    "        return 1\n",
    "    else:\n",
    "        return -1\n",
    "\n",
    "def InputData(fName):\n",
    "    f=open(fName)\n",
    "    text=f.readlines()\n",
    "    X=[]\n",
    "    Y=[]\n",
    "    c=0\n",
    "    for r in text:\n",
    "        row=r.strip()\n",
    "        row=row.replace('\\t',' ')\n",
    "        l=row.split(' ')\n",
    "        X.append([])\n",
    "        for i in range(4):\n",
    "    #         print(l[i])\n",
    "            X[c].append(float(l[i]))\n",
    "        Y.append(int(l[4]))\n",
    "        c+=1\n",
    "    f.close()\n",
    "    return X,Y,c\n",
    "\n",
    "def PLA_Random(X,Y,W,iteration):\n",
    "    flag=False\n",
    "    updates=0\n",
    "    Id=[]\n",
    "    for i in range(len(Y)):\n",
    "        Id.append(i)\n",
    "    \n",
    "    Idt=Id\n",
    "    rd.shuffle(Idt)\n",
    "        \n",
    "    for j in range(iteration):\n",
    "        flag=False\n",
    "        for lp in Idt:\n",
    "            if sign(X[lp],W) != Y[lp]:\n",
    "                W=W+Y[lp]*X[lp]\n",
    "                flag=True\n",
    "                updates+=1\n",
    "        if not flag:\n",
    "#             print(\"WIN!!\",j)\n",
    "            n_inter=j\n",
    "            return updates,j\n",
    "    return updates,999999    \n",
    "\n",
    "X=[]\n",
    "Y=[]\n",
    "X,Y,TrainC=InputData('hw1_7_train.dat')\n",
    "X=np.array(X)\n",
    "Y=np.array(Y)\n",
    "X=np.concatenate((np.ones((len(X),1)),X),axis=1)\n",
    "W=np.zeros(5)\n",
    "\n",
    "update_his=[]\n",
    "Sum_update=0\n",
    "for i in range(1126):\n",
    "    updates,loops=PLA_Random(X,Y,W,20000)\n",
    "    update_his.append(updates)\n",
    "    Sum_update+=updates\n",
    "print('the average number of updates: %f'%(Sum_update/1126))\n",
    "\n",
    "plt.figure()\n",
    "plt.hist(update_his,bins=20)\n",
    "plt.ylabel('Frequency')\n",
    "plt.xlabel('The Number of Updates')\n",
    "plt.title(r'$\\mathrm{Histogram\\ of\\ The\\ Number\\ of\\ Updates}$')\n",
    "plt.grid(True)\n",
    "plt.show()"
   ]
  },
  {
   "cell_type": "code",
   "execution_count": null,
   "metadata": {},
   "outputs": [],
   "source": []
  }
 ],
 "metadata": {
  "kernelspec": {
   "display_name": "Python 3",
   "language": "python",
   "name": "python3"
  },
  "language_info": {
   "codemirror_mode": {
    "name": "ipython",
    "version": 3
   },
   "file_extension": ".py",
   "mimetype": "text/x-python",
   "name": "python",
   "nbconvert_exporter": "python",
   "pygments_lexer": "ipython3",
   "version": "3.6.5"
  }
 },
 "nbformat": 4,
 "nbformat_minor": 2
}
