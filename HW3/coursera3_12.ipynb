{
 "cells": [
  {
   "cell_type": "code",
   "execution_count": 15,
   "metadata": {},
   "outputs": [
    {
     "name": "stdout",
     "output_type": "stream",
     "text": [
      "0.5024420000000007\n"
     ]
    }
   ],
   "source": [
    "import numpy as np\n",
    "import random as rd\n",
    "from numpy.linalg import inv\n",
    "X_n=1000\n",
    "Ein=0\n",
    "for t in range(1000):\n",
    "    X = (1-(-1))*np.random.rand(X_n,2)+(-1)\n",
    "    noiseP = np.random.rand(X_n)\n",
    "    Y=[]\n",
    "    for i in range(X_n):\n",
    "        y=X[i,0]**2+X[i,1]**2-0.6\n",
    "        if y>0:\n",
    "            y=1\n",
    "        else:\n",
    "            y=-1\n",
    "        if noiseP[i]<0.1:\n",
    "            y*=-1\n",
    "        Y.append(y)\n",
    "    Y=np.array(Y)\n",
    "    X=np.concatenate((np.ones((len(X),1)),X),axis=1)\n",
    "    coeffs = inv(X.transpose().dot(X)).dot(X.transpose()).dot(Y)\n",
    "    Y_p=np.dot(X,coeffs)\n",
    "    Ein_t=0\n",
    "    for i in range(X_n):\n",
    "        if Y_p[i]>0:\n",
    "            y=1\n",
    "        else:\n",
    "            y=-1\n",
    "        if y!=Y[i]:\n",
    "            Ein_t+=1\n",
    "    Ein+=Ein_t/X_n\n",
    "print(Ein/1000)"
   ]
  },
  {
   "cell_type": "code",
   "execution_count": 41,
   "metadata": {},
   "outputs": [
    {
     "name": "stdout",
     "output_type": "stream",
     "text": [
      "(1000, 1) (1000, 1) (1000, 1)\n"
     ]
    }
   ],
   "source": [
    "X = (1-(-1))*np.random.rand(X_n,2)+(-1)\n",
    "noiseP = np.random.rand(X_n)\n",
    "Y=[]\n",
    "for i in range(X_n):\n",
    "    y=X[i,0]**2+X[i,1]**2-0.6\n",
    "    if y>0:\n",
    "        y=1\n",
    "    else:\n",
    "        y=-1\n",
    "    if noiseP[i]<0.1:\n",
    "        y*=-1\n",
    "    Y.append(y)\n",
    "Y=np.array(Y)\n",
    "X1,X2=np.split(X,[1],axis=1)\n",
    "X12=X1*X2\n",
    "X11=X[:,0]**2\n",
    "X22=X[:,1]**2\n",
    "print(X1.shape,X2.shape,X12.shape)\n",
    "X=np.concatenate((np.ones((len(X),1)),X1,X2,X12,X11.reshape((len(X),1)),X22.reshape((len(X),1))),axis=1)\n",
    "coeffs = inv(X.transpose().dot(X)).dot(X.transpose()).dot(Y)\n",
    "\n"
   ]
  },
  {
   "cell_type": "code",
   "execution_count": 33,
   "metadata": {},
   "outputs": [
    {
     "data": {
      "text/plain": [
       "array([ 1.        ,  0.03062864,  0.0269029 ,  0.04059969, -1.60308972,\n",
       "       -1.43783004])"
      ]
     },
     "execution_count": 33,
     "metadata": {},
     "output_type": "execute_result"
    }
   ],
   "source": [
    "coe=coeffs/coeffs[0]\n",
    "coe"
   ]
  },
  {
   "cell_type": "code",
   "execution_count": 43,
   "metadata": {},
   "outputs": [
    {
     "name": "stdout",
     "output_type": "stream",
     "text": [
      "0.14374300000000031\n"
     ]
    }
   ],
   "source": [
    "W = np.array([[-1],[-0.05],[0.08],[0.13],[1.5],[1.5]])\n",
    "Eout=0\n",
    "for t in range(1000):\n",
    "    X = (1-(-1))*np.random.rand(X_n,2)+(-1)\n",
    "    noiseP = np.random.rand(X_n)\n",
    "    Y=[]\n",
    "    for i in range(X_n):\n",
    "        y=X[i,0]**2+X[i,1]**2-0.6\n",
    "        if y>0:\n",
    "            y=1\n",
    "        else:\n",
    "            y=-1\n",
    "        if noiseP[i]<0.1:\n",
    "            y*=-1\n",
    "        Y.append(y)\n",
    "    Y=np.array(Y)\n",
    "    X1,X2=np.split(X,[1],axis=1)\n",
    "    X12=X1*X2\n",
    "    X11=X[:,0]**2\n",
    "    X22=X[:,1]**2\n",
    "    X=np.concatenate((np.ones((len(X),1)),X1,X2,X12,X11.reshape((len(X),1)),X22.reshape((len(X),1))),axis=1)\n",
    "    Y_p=np.dot(X,W)\n",
    "    Eout_t=0\n",
    "    for i in range(X_n):\n",
    "        if Y_p[i]>0:\n",
    "            y=1\n",
    "        else:\n",
    "            y=-1\n",
    "        if y!=Y[i]:\n",
    "            Eout_t+=1\n",
    "    Eout+=Eout_t/X_n\n",
    "print(Eout/1000)"
   ]
  },
  {
   "cell_type": "code",
   "execution_count": null,
   "metadata": {},
   "outputs": [],
   "source": []
  }
 ],
 "metadata": {
  "kernelspec": {
   "display_name": "Python 3",
   "language": "python",
   "name": "python3"
  },
  "language_info": {
   "codemirror_mode": {
    "name": "ipython",
    "version": 3
   },
   "file_extension": ".py",
   "mimetype": "text/x-python",
   "name": "python",
   "nbconvert_exporter": "python",
   "pygments_lexer": "ipython3",
   "version": "3.6.5"
  }
 },
 "nbformat": 4,
 "nbformat_minor": 2
}
